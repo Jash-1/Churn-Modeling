{
 "cells": [
  {
   "cell_type": "code",
   "execution_count": null,
   "metadata": {},
   "outputs": [],
   "source": [
    "# Part 1 - Data Preprocessing\n"
   ]
  },
  {
   "cell_type": "code",
   "execution_count": 2,
   "metadata": {},
   "outputs": [],
   "source": [
    "# Importing the libraries\n",
    "import numpy as np\n",
    "import matplotlib.pyplot as plt\n",
    "import pandas as pd\n"
   ]
  },
  {
   "cell_type": "code",
   "execution_count": 3,
   "metadata": {},
   "outputs": [],
   "source": [
    "# Importing the dataset\n",
    "dataset = pd.read_csv('Churn_Modelling.csv')\n",
    "X = dataset.iloc[:, 3:13].values\n",
    "y = dataset.iloc[:, 13].values"
   ]
  },
  {
   "cell_type": "code",
   "execution_count": 4,
   "metadata": {},
   "outputs": [],
   "source": [
    "# Encoding categorical data\n",
    "from sklearn.preprocessing import LabelEncoder, OneHotEncoder\n",
    "labelencoder_X_1 = LabelEncoder()\n",
    "X[:, 1] = labelencoder_X_1.fit_transform(X[:, 1])\n",
    "labelencoder_X_2 = LabelEncoder()\n",
    "X[:, 2] = labelencoder_X_2.fit_transform(X[:, 2])\n",
    "onehotencoder = OneHotEncoder(categorical_features = [1])\n",
    "X = onehotencoder.fit_transform(X).toarray()\n",
    "X = X[:, 1:]\n"
   ]
  },
  {
   "cell_type": "code",
   "execution_count": 5,
   "metadata": {},
   "outputs": [],
   "source": [
    "# Splitting the dataset into the Training set and Test set\n",
    "from sklearn.model_selection import train_test_split\n",
    "X_train, X_test, y_train, y_test = train_test_split(X, y, test_size = 0.2, random_state = 0)"
   ]
  },
  {
   "cell_type": "code",
   "execution_count": 6,
   "metadata": {},
   "outputs": [],
   "source": [
    "# Feature Scaling\n",
    "from sklearn.preprocessing import StandardScaler\n",
    "sc = StandardScaler()\n",
    "X_train = sc.fit_transform(X_train)\n",
    "X_test = sc.transform(X_test)"
   ]
  },
  {
   "cell_type": "code",
   "execution_count": 7,
   "metadata": {},
   "outputs": [
    {
     "name": "stderr",
     "output_type": "stream",
     "text": [
      "Using TensorFlow backend.\n"
     ]
    }
   ],
   "source": [
    "# Part 2 - Now let's make the ANN!\n",
    "\n",
    "# Importing the Keras libraries and packages\n",
    "import keras\n",
    "from keras.models import Sequential\n",
    "from keras.layers import Dense\n",
    "from keras.layers import Dropout\n"
   ]
  },
  {
   "cell_type": "code",
   "execution_count": 8,
   "metadata": {},
   "outputs": [],
   "source": [
    "# Initialising the ANN\n",
    "classifier = Sequential()\n",
    "\n",
    "# Adding the input layer and the first hidden layer\n",
    "classifier.add(Dense(units = 6, kernel_initializer = 'uniform', activation = 'relu', input_dim = 11))\n",
    "# classifier.add(Dropout(p = 0.1))\n",
    "\n",
    "# Adding the second hidden layer\n",
    "classifier.add(Dense(units = 6, kernel_initializer = 'uniform', activation = 'relu'))\n",
    "# classifier.add(Dropout(p = 0.1))\n",
    "\n",
    "# Adding the output layer\n",
    "classifier.add(Dense(units = 1, kernel_initializer = 'uniform', activation = 'sigmoid'))"
   ]
  },
  {
   "cell_type": "code",
   "execution_count": 9,
   "metadata": {},
   "outputs": [
    {
     "name": "stdout",
     "output_type": "stream",
     "text": [
      "Epoch 1/100\n",
      "8000/8000 [==============================] - 1s 92us/step - loss: 0.4836 - acc: 0.7954\n",
      "Epoch 2/100\n",
      "8000/8000 [==============================] - 1s 64us/step - loss: 0.4261 - acc: 0.7960\n",
      "Epoch 3/100\n",
      "8000/8000 [==============================] - 1s 68us/step - loss: 0.4195 - acc: 0.8152\n",
      "Epoch 4/100\n",
      "8000/8000 [==============================] - 1s 63us/step - loss: 0.4144 - acc: 0.8302\n",
      "Epoch 5/100\n",
      "8000/8000 [==============================] - 1s 64us/step - loss: 0.4103 - acc: 0.8317\n",
      "Epoch 6/100\n",
      "8000/8000 [==============================] - 1s 66us/step - loss: 0.4072 - acc: 0.8320\n",
      "Epoch 7/100\n",
      "8000/8000 [==============================] - 0s 62us/step - loss: 0.4053 - acc: 0.8321\n",
      "Epoch 8/100\n",
      "8000/8000 [==============================] - 1s 66us/step - loss: 0.4028 - acc: 0.8346\n",
      "Epoch 9/100\n",
      "8000/8000 [==============================] - 0s 62us/step - loss: 0.4022 - acc: 0.8325\n",
      "Epoch 10/100\n",
      "8000/8000 [==============================] - 1s 66us/step - loss: 0.4003 - acc: 0.8335\n",
      "Epoch 11/100\n",
      "8000/8000 [==============================] - 1s 66us/step - loss: 0.4001 - acc: 0.8334\n",
      "Epoch 12/100\n",
      "8000/8000 [==============================] - 0s 60us/step - loss: 0.3993 - acc: 0.8351\n",
      "Epoch 13/100\n",
      "8000/8000 [==============================] - 0s 60us/step - loss: 0.3989 - acc: 0.8339\n",
      "Epoch 14/100\n",
      "8000/8000 [==============================] - 0s 61us/step - loss: 0.3976 - acc: 0.8330\n",
      "Epoch 15/100\n",
      "8000/8000 [==============================] - 0s 61us/step - loss: 0.3973 - acc: 0.8344\n",
      "Epoch 16/100\n",
      "8000/8000 [==============================] - 0s 62us/step - loss: 0.3968 - acc: 0.8362\n",
      "Epoch 17/100\n",
      "8000/8000 [==============================] - 0s 61us/step - loss: 0.3961 - acc: 0.8359\n",
      "Epoch 18/100\n",
      "8000/8000 [==============================] - 0s 62us/step - loss: 0.3961 - acc: 0.8351\n",
      "Epoch 19/100\n",
      "8000/8000 [==============================] - 0s 60us/step - loss: 0.3962 - acc: 0.8356\n",
      "Epoch 20/100\n",
      "8000/8000 [==============================] - 0s 62us/step - loss: 0.3951 - acc: 0.8354\n",
      "Epoch 21/100\n",
      "8000/8000 [==============================] - 0s 61us/step - loss: 0.3958 - acc: 0.8357: 0s - loss: 0.3900 - acc:\n",
      "Epoch 22/100\n",
      "8000/8000 [==============================] - 0s 62us/step - loss: 0.3955 - acc: 0.8357\n",
      "Epoch 23/100\n",
      "8000/8000 [==============================] - 0s 60us/step - loss: 0.3951 - acc: 0.8349\n",
      "Epoch 24/100\n",
      "8000/8000 [==============================] - 1s 63us/step - loss: 0.3946 - acc: 0.8356\n",
      "Epoch 25/100\n",
      "8000/8000 [==============================] - 0s 61us/step - loss: 0.3950 - acc: 0.8360\n",
      "Epoch 26/100\n",
      "8000/8000 [==============================] - 1s 65us/step - loss: 0.3945 - acc: 0.8364\n",
      "Epoch 27/100\n",
      "8000/8000 [==============================] - 0s 62us/step - loss: 0.3943 - acc: 0.8364\n",
      "Epoch 28/100\n",
      "8000/8000 [==============================] - 1s 63us/step - loss: 0.3936 - acc: 0.8384\n",
      "Epoch 29/100\n",
      "8000/8000 [==============================] - 0s 61us/step - loss: 0.3925 - acc: 0.8384: 0s - loss: 0.3997 - ac\n",
      "Epoch 30/100\n",
      "8000/8000 [==============================] - 1s 65us/step - loss: 0.3910 - acc: 0.8377\n",
      "Epoch 31/100\n",
      "8000/8000 [==============================] - 0s 61us/step - loss: 0.3899 - acc: 0.8369\n",
      "Epoch 32/100\n",
      "8000/8000 [==============================] - 1s 67us/step - loss: 0.3887 - acc: 0.8364\n",
      "Epoch 33/100\n",
      "8000/8000 [==============================] - 1s 64us/step - loss: 0.3856 - acc: 0.8366\n",
      "Epoch 34/100\n",
      "8000/8000 [==============================] - 1s 70us/step - loss: 0.3810 - acc: 0.8390\n",
      "Epoch 35/100\n",
      "8000/8000 [==============================] - 1s 71us/step - loss: 0.3766 - acc: 0.8370\n",
      "Epoch 36/100\n",
      "8000/8000 [==============================] - 1s 70us/step - loss: 0.3725 - acc: 0.8429\n",
      "Epoch 37/100\n",
      "8000/8000 [==============================] - 1s 66us/step - loss: 0.3680 - acc: 0.8431\n",
      "Epoch 38/100\n",
      "8000/8000 [==============================] - 1s 63us/step - loss: 0.3642 - acc: 0.8482\n",
      "Epoch 39/100\n",
      "8000/8000 [==============================] - 0s 62us/step - loss: 0.3604 - acc: 0.8529\n",
      "Epoch 40/100\n",
      "8000/8000 [==============================] - 1s 65us/step - loss: 0.3562 - acc: 0.8569\n",
      "Epoch 41/100\n",
      "8000/8000 [==============================] - 1s 63us/step - loss: 0.3558 - acc: 0.8590\n",
      "Epoch 42/100\n",
      "8000/8000 [==============================] - 0s 62us/step - loss: 0.3534 - acc: 0.8616\n",
      "Epoch 43/100\n",
      "8000/8000 [==============================] - 1s 66us/step - loss: 0.3535 - acc: 0.8587\n",
      "Epoch 44/100\n",
      "8000/8000 [==============================] - 0s 61us/step - loss: 0.3531 - acc: 0.8615\n",
      "Epoch 45/100\n",
      "8000/8000 [==============================] - 1s 63us/step - loss: 0.3525 - acc: 0.8602\n",
      "Epoch 46/100\n",
      "8000/8000 [==============================] - 1s 64us/step - loss: 0.3507 - acc: 0.8591\n",
      "Epoch 47/100\n",
      "8000/8000 [==============================] - 1s 66us/step - loss: 0.3510 - acc: 0.8597\n",
      "Epoch 48/100\n",
      "8000/8000 [==============================] - 1s 66us/step - loss: 0.3501 - acc: 0.8606\n",
      "Epoch 49/100\n",
      "8000/8000 [==============================] - 1s 65us/step - loss: 0.3490 - acc: 0.8612\n",
      "Epoch 50/100\n",
      "8000/8000 [==============================] - 0s 62us/step - loss: 0.3490 - acc: 0.8594\n",
      "Epoch 51/100\n",
      "8000/8000 [==============================] - 1s 65us/step - loss: 0.3492 - acc: 0.8620\n",
      "Epoch 52/100\n",
      "8000/8000 [==============================] - 1s 63us/step - loss: 0.3490 - acc: 0.8607\n",
      "Epoch 53/100\n",
      "8000/8000 [==============================] - 1s 64us/step - loss: 0.3476 - acc: 0.8632\n",
      "Epoch 54/100\n",
      "8000/8000 [==============================] - 1s 63us/step - loss: 0.3484 - acc: 0.8596\n",
      "Epoch 55/100\n",
      "8000/8000 [==============================] - 1s 65us/step - loss: 0.3480 - acc: 0.8612\n",
      "Epoch 56/100\n",
      "8000/8000 [==============================] - 1s 63us/step - loss: 0.3477 - acc: 0.8609\n",
      "Epoch 57/100\n",
      "8000/8000 [==============================] - 1s 63us/step - loss: 0.3470 - acc: 0.8615\n",
      "Epoch 58/100\n",
      "8000/8000 [==============================] - 0s 62us/step - loss: 0.3477 - acc: 0.8607\n",
      "Epoch 59/100\n",
      "8000/8000 [==============================] - 1s 65us/step - loss: 0.3467 - acc: 0.8625\n",
      "Epoch 60/100\n",
      "8000/8000 [==============================] - 0s 61us/step - loss: 0.3463 - acc: 0.8636\n",
      "Epoch 61/100\n",
      "8000/8000 [==============================] - 0s 61us/step - loss: 0.3471 - acc: 0.8622\n",
      "Epoch 62/100\n",
      "8000/8000 [==============================] - 0s 60us/step - loss: 0.3464 - acc: 0.8612\n",
      "Epoch 63/100\n",
      "8000/8000 [==============================] - 1s 66us/step - loss: 0.3462 - acc: 0.8610\n",
      "Epoch 64/100\n",
      "8000/8000 [==============================] - 0s 58us/step - loss: 0.3466 - acc: 0.8622\n",
      "Epoch 65/100\n",
      "8000/8000 [==============================] - 0s 61us/step - loss: 0.3468 - acc: 0.8590\n",
      "Epoch 66/100\n",
      "8000/8000 [==============================] - 1s 64us/step - loss: 0.3459 - acc: 0.8619\n",
      "Epoch 67/100\n",
      "8000/8000 [==============================] - 1s 65us/step - loss: 0.3458 - acc: 0.8630\n",
      "Epoch 68/100\n",
      "8000/8000 [==============================] - 1s 65us/step - loss: 0.3453 - acc: 0.8621\n",
      "Epoch 69/100\n",
      "8000/8000 [==============================] - 1s 63us/step - loss: 0.3454 - acc: 0.8626\n",
      "Epoch 70/100\n",
      "8000/8000 [==============================] - 1s 63us/step - loss: 0.3450 - acc: 0.8597\n",
      "Epoch 71/100\n",
      "8000/8000 [==============================] - 1s 67us/step - loss: 0.3451 - acc: 0.8602\n",
      "Epoch 72/100\n",
      "8000/8000 [==============================] - 1s 66us/step - loss: 0.3452 - acc: 0.8615\n",
      "Epoch 73/100\n",
      "8000/8000 [==============================] - 1s 66us/step - loss: 0.3447 - acc: 0.8599\n",
      "Epoch 74/100\n",
      "8000/8000 [==============================] - 1s 66us/step - loss: 0.3448 - acc: 0.8631\n",
      "Epoch 75/100\n",
      "8000/8000 [==============================] - 1s 65us/step - loss: 0.3449 - acc: 0.8609\n",
      "Epoch 76/100\n",
      "8000/8000 [==============================] - 1s 64us/step - loss: 0.3442 - acc: 0.8604\n",
      "Epoch 77/100\n",
      "8000/8000 [==============================] - 1s 64us/step - loss: 0.3448 - acc: 0.8616\n",
      "Epoch 78/100\n",
      "8000/8000 [==============================] - 1s 63us/step - loss: 0.3450 - acc: 0.8607\n",
      "Epoch 79/100\n",
      "8000/8000 [==============================] - 0s 61us/step - loss: 0.3451 - acc: 0.8616\n",
      "Epoch 80/100\n",
      "8000/8000 [==============================] - 1s 63us/step - loss: 0.3443 - acc: 0.8606\n",
      "Epoch 81/100\n",
      "8000/8000 [==============================] - 1s 63us/step - loss: 0.3439 - acc: 0.8600\n",
      "Epoch 82/100\n"
     ]
    },
    {
     "name": "stdout",
     "output_type": "stream",
     "text": [
      "8000/8000 [==============================] - 1s 67us/step - loss: 0.3448 - acc: 0.8612\n",
      "Epoch 83/100\n",
      "8000/8000 [==============================] - 1s 65us/step - loss: 0.3441 - acc: 0.8611\n",
      "Epoch 84/100\n",
      "8000/8000 [==============================] - 1s 64us/step - loss: 0.3443 - acc: 0.8617\n",
      "Epoch 85/100\n",
      "8000/8000 [==============================] - 1s 64us/step - loss: 0.3442 - acc: 0.8624\n",
      "Epoch 86/100\n",
      "8000/8000 [==============================] - 1s 63us/step - loss: 0.3445 - acc: 0.8600\n",
      "Epoch 87/100\n",
      "8000/8000 [==============================] - 1s 73us/step - loss: 0.3440 - acc: 0.8606\n",
      "Epoch 88/100\n",
      "8000/8000 [==============================] - 1s 72us/step - loss: 0.3426 - acc: 0.8612\n",
      "Epoch 89/100\n",
      "8000/8000 [==============================] - 1s 64us/step - loss: 0.3434 - acc: 0.8617\n",
      "Epoch 90/100\n",
      "8000/8000 [==============================] - 1s 72us/step - loss: 0.3438 - acc: 0.8590\n",
      "Epoch 91/100\n",
      "8000/8000 [==============================] - 1s 63us/step - loss: 0.3436 - acc: 0.8605\n",
      "Epoch 92/100\n",
      "8000/8000 [==============================] - 1s 66us/step - loss: 0.3433 - acc: 0.8620\n",
      "Epoch 93/100\n",
      "8000/8000 [==============================] - 1s 67us/step - loss: 0.3423 - acc: 0.8614\n",
      "Epoch 94/100\n",
      "8000/8000 [==============================] - ETA: 0s - loss: 0.3443 - acc: 0.858 - 0s 61us/step - loss: 0.3429 - acc: 0.8589\n",
      "Epoch 95/100\n",
      "8000/8000 [==============================] - 0s 60us/step - loss: 0.3436 - acc: 0.8636\n",
      "Epoch 96/100\n",
      "8000/8000 [==============================] - 0s 62us/step - loss: 0.3432 - acc: 0.8617\n",
      "Epoch 97/100\n",
      "8000/8000 [==============================] - 0s 62us/step - loss: 0.3434 - acc: 0.8610\n",
      "Epoch 98/100\n",
      "8000/8000 [==============================] - 1s 63us/step - loss: 0.3434 - acc: 0.8606\n",
      "Epoch 99/100\n",
      "8000/8000 [==============================] - 1s 65us/step - loss: 0.3428 - acc: 0.8634\n",
      "Epoch 100/100\n",
      "8000/8000 [==============================] - 0s 62us/step - loss: 0.3431 - acc: 0.8611\n"
     ]
    },
    {
     "data": {
      "text/plain": [
       "<keras.callbacks.History at 0x25b954b8550>"
      ]
     },
     "execution_count": 9,
     "metadata": {},
     "output_type": "execute_result"
    }
   ],
   "source": [
    "# Compiling the ANN\n",
    "classifier.compile(optimizer = 'adam', loss = 'binary_crossentropy', metrics = ['accuracy'])\n",
    "\n",
    "# Fitting the ANN to the Training set\n",
    "classifier.fit(X_train, y_train, batch_size = 10, epochs = 100)"
   ]
  },
  {
   "cell_type": "code",
   "execution_count": 10,
   "metadata": {},
   "outputs": [],
   "source": [
    "# Part 3 - Making predictions and evaluating the model\n",
    "\n",
    "# Predicting the Test set results\n",
    "y_pred = classifier.predict(X_test)\n",
    "y_pred = (y_pred > 0.5)\n"
   ]
  },
  {
   "cell_type": "code",
   "execution_count": 11,
   "metadata": {},
   "outputs": [],
   "source": [
    "# Predicting a single new observation\n",
    "\"\"\"Predict if the customer with the following informations will leave the bank:\n",
    "Geography: France\n",
    "Credit Score: 600\n",
    "Gender: Male\n",
    "Age: 40\n",
    "Tenure: 3\n",
    "Balance: 60000\n",
    "Number of Products: 2\n",
    "Has Credit Card: Yes\n",
    "Is Active Member: Yes\n",
    "Estimated Salary: 50000\"\"\"\n",
    "new_prediction = classifier.predict(sc.transform(np.array([[0.0, 0, 600, 1, 40, 3, 60000, 2, 1, 1, 50000]])))\n",
    "new_prediction = (new_prediction > 0.5)"
   ]
  },
  {
   "cell_type": "code",
   "execution_count": 13,
   "metadata": {},
   "outputs": [
    {
     "data": {
      "text/plain": [
       "array([[1536,   59],\n",
       "       [ 211,  194]], dtype=int64)"
      ]
     },
     "execution_count": 13,
     "metadata": {},
     "output_type": "execute_result"
    }
   ],
   "source": [
    "# Making the Confusion Matrix\n",
    "from sklearn.metrics import confusion_matrix\n",
    "cm = confusion_matrix(y_test, y_pred)\n",
    "cm"
   ]
  },
  {
   "cell_type": "code",
   "execution_count": null,
   "metadata": {},
   "outputs": [],
   "source": [
    "# Part 4 - Evaluating, Improving and Tuning the ANN\n",
    "\n",
    "# Evaluating the ANN\n",
    "from keras.wrappers.scikit_learn import KerasClassifier\n",
    "from sklearn.model_selection import cross_val_score\n",
    "from keras.models import Sequential\n",
    "from keras.layers import Dense\n",
    "def build_classifier():\n",
    "    classifier = Sequential()\n",
    "    classifier.add(Dense(units = 6, kernel_initializer = 'uniform', activation = 'relu', input_dim = 11))\n",
    "    classifier.add(Dense(units = 6, kernel_initializer = 'uniform', activation = 'relu'))\n",
    "    classifier.add(Dense(units = 1, kernel_initializer = 'uniform', activation = 'sigmoid'))\n",
    "    classifier.compile(optimizer = 'adam', loss = 'binary_crossentropy', metrics = ['accuracy'])\n",
    "    return classifier\n",
    "classifier = KerasClassifier(build_fn = build_classifier, batch_size = 10, epochs = 100)\n",
    "accuracies = cross_val_score(estimator = classifier, X = X_train, y = y_train, cv = 10, n_jobs = -1)\n",
    "mean = accuracies.mean()\n",
    "variance = accuracies.std()"
   ]
  },
  {
   "cell_type": "code",
   "execution_count": null,
   "metadata": {},
   "outputs": [],
   "source": [
    "# Improving the ANN\n",
    "# Dropout Regularization to reduce overfitting if needed\n",
    "\n",
    "# Tuning the ANN\n",
    "from keras.wrappers.scikit_learn import KerasClassifier\n",
    "from sklearn.model_selection import GridSearchCV\n",
    "from keras.models import Sequential\n",
    "from keras.layers import Dense\n",
    "def build_classifier(optimizer):\n",
    "    classifier = Sequential()\n",
    "    classifier.add(Dense(units = 6, kernel_initializer = 'uniform', activation = 'relu', input_dim = 11))\n",
    "    classifier.add(Dense(units = 6, kernel_initializer = 'uniform', activation = 'relu'))\n",
    "    classifier.add(Dense(units = 1, kernel_initializer = 'uniform', activation = 'sigmoid'))\n",
    "    classifier.compile(optimizer = optimizer, loss = 'binary_crossentropy', metrics = ['accuracy'])\n",
    "    return classifier\n",
    "classifier = KerasClassifier(build_fn = build_classifier)\n",
    "parameters = {'batch_size': [25, 32],\n",
    "              'epochs': [100, 500],\n",
    "              'optimizer': ['adam', 'rmsprop']}\n",
    "grid_search = GridSearchCV(estimator = classifier,\n",
    "                           param_grid = parameters,\n",
    "                           scoring = 'accuracy',\n",
    "                           cv = 10)\n",
    "grid_search = grid_search.fit(X_train, y_train)\n",
    "best_parameters = grid_search.best_params_\n",
    "best_accuracy = grid_search.best_score_"
   ]
  }
 ],
 "metadata": {
  "kernelspec": {
   "display_name": "Python 3",
   "language": "python",
   "name": "python3"
  },
  "language_info": {
   "codemirror_mode": {
    "name": "ipython",
    "version": 3
   },
   "file_extension": ".py",
   "mimetype": "text/x-python",
   "name": "python",
   "nbconvert_exporter": "python",
   "pygments_lexer": "ipython3",
   "version": "3.6.6"
  }
 },
 "nbformat": 4,
 "nbformat_minor": 2
}
